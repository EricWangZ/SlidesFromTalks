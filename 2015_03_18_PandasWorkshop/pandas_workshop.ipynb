{
 "metadata": {
  "name": "",
  "signature": "sha256:a3007e3f2fcc8a51da95819f171f751a8b11dbb952b785d6e0e844e765188c83"
 },
 "nbformat": 3,
 "nbformat_minor": 0,
 "worksheets": [
  {
   "cells": [
    {
     "cell_type": "markdown",
     "metadata": {},
     "source": [
      "## Requirements of the data:\n",
      "* at least two datasets have some sort of join that's not 1:1.  i.e., people's data, and the events\n",
      "    * stack overflow?\n",
      "    * bitly?\n",
      "* a couple thousand lines in each\n",
      "* \n",
      "\n",
      "## Power functions:\n",
      "* .mostcommon(N)\n",
      "* .apply(lambda var:expr)  #and again based off mapping?\n",
      "\n",
      "## Gotchas:\n",
      "* df.X can fail silently, be careful and use df['X'] for assignment if you're unsure\n",
      "\n",
      "\n",
      "## The Goal:\n",
      "can you group people into communities based off keywords they use?\n",
      "\n",
      "## Bonus:\n",
      "* tie into graphviz at the end?\n",
      "* time series\n",
      "\n",
      "\n",
      "# Other slide ideas\n",
      "* oprations on cols\n",
      "\t* select\n",
      "\t* add\n",
      "\t* add from previous\n",
      "\n",
      "* indices\n",
      "    * set index\n",
      "    * reset index\n",
      "    * multi-index"
     ]
    },
    {
     "cell_type": "markdown",
     "metadata": {},
     "source": [
      "What is the purpose of pandas?"
     ]
    },
    {
     "cell_type": "markdown",
     "metadata": {},
     "source": [
      "loading data\n",
      "\n",
      "* python can auto-detect, but you can also specify the dtype  (for pulling data in from csv)\n",
      "* how to handle `None`s across the different types?\n",
      "\n",
      "messy data?  missing values?\n",
      "normalize data:  column that has two things, and split in into two tables.\n",
      "one column that has ; instead of ,\n"
     ]
    },
    {
     "cell_type": "markdown",
     "metadata": {},
     "source": [
      "basic operations: head, tail, length of df, how to select by column, how to select by index range, sorting\n",
      "\n",
      "don't do this:\n",
      "    how to set column i, row j.\n",
      "    and how to get i,j\n"
     ]
    },
    {
     "cell_type": "markdown",
     "metadata": {},
     "source": [
      "## subsets\n",
      "\n",
      "\"where\" / \"selecting by boolean condition\"\n",
      "what people are in a country?"
     ]
    },
    {
     "cell_type": "markdown",
     "metadata": {},
     "source": [
      "## aggregatation\n",
      "\n",
      "count, sum, mean, "
     ]
    },
    {
     "cell_type": "markdown",
     "metadata": {},
     "source": [
      "## Graphing\n",
      "histograms, yo\n",
      "\n",
      "cover the basics:\n",
      "* how to pull in data\n",
      "* how to see graphs\n",
      "* labels\n",
      "* scatterplot, line plot, 2 and 3 d, histograms, stacked hist.\n"
     ]
    },
    {
     "cell_type": "markdown",
     "metadata": {},
     "source": [
      "joins\n",
      "\n",
      "need simple question that needs simple join, but obviously combining two tables\n",
      "* comments and people.  -> \n",
      "    * make list of comments per person\n",
      "    * how many times did each person comment?\n"
     ]
    },
    {
     "cell_type": "code",
     "collapsed": false,
     "input": [
      "import pandas as pd"
     ],
     "language": "python",
     "metadata": {},
     "outputs": [
      {
       "ename": "ImportError",
       "evalue": "No module named pandas",
       "output_type": "pyerr",
       "traceback": [
        "\u001b[0;31m---------------------------------------------------------------------------\u001b[0m\n\u001b[0;31mImportError\u001b[0m                               Traceback (most recent call last)",
        "\u001b[0;32m<ipython-input-1-af55e7023913>\u001b[0m in \u001b[0;36m<module>\u001b[0;34m()\u001b[0m\n\u001b[0;32m----> 1\u001b[0;31m \u001b[0;32mimport\u001b[0m \u001b[0mpandas\u001b[0m \u001b[0;32mas\u001b[0m \u001b[0mpd\u001b[0m\u001b[0;34m\u001b[0m\u001b[0m\n\u001b[0m",
        "\u001b[0;31mImportError\u001b[0m: No module named pandas"
       ]
      }
     ],
     "prompt_number": 1
    },
    {
     "cell_type": "markdown",
     "metadata": {},
     "source": []
    },
    {
     "cell_type": "code",
     "collapsed": false,
     "input": [],
     "language": "python",
     "metadata": {},
     "outputs": []
    },
    {
     "cell_type": "code",
     "collapsed": false,
     "input": [
      "select for keywords with some minimum count\n",
      "or top third of keywords\n",
      "then do join\n"
     ],
     "language": "python",
     "metadata": {},
     "outputs": []
    }
   ],
   "metadata": {}
  }
 ]
}